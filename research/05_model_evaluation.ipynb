{
 "cells": [
  {
   "cell_type": "code",
   "execution_count": 1,
   "metadata": {},
   "outputs": [
    {
     "data": {
      "text/plain": [
       "'d:\\\\Code Workspace\\\\Personal Project\\\\Personal Project - End to End Loan Status Classification'"
      ]
     },
     "execution_count": 1,
     "metadata": {},
     "output_type": "execute_result"
    }
   ],
   "source": [
    "import os\n",
    "os.chdir('../')\n",
    "os.getcwd()"
   ]
  },
  {
   "cell_type": "code",
   "execution_count": 2,
   "metadata": {},
   "outputs": [],
   "source": [
    "from dotenv import load_dotenv\n",
    "load_dotenv();"
   ]
  },
  {
   "cell_type": "code",
   "execution_count": 3,
   "metadata": {},
   "outputs": [],
   "source": [
    "# os.environ['MLFLOW_TRACKING_URI']"
   ]
  },
  {
   "cell_type": "code",
   "execution_count": 4,
   "metadata": {},
   "outputs": [],
   "source": [
    "from dataclasses import dataclass\n",
    "from pathlib import Path\n",
    "\n",
    "@dataclass(frozen=True)\n",
    "class ModelEvaluationConfig:\n",
    "    root_dir: str\n",
    "    test_data_path: str\n",
    "    model_path: str\n",
    "    all_params: dict\n",
    "    metric_file_path: Path\n",
    "    target_column: str\n",
    "    mlflow_uri: str"
   ]
  },
  {
   "cell_type": "code",
   "execution_count": 5,
   "metadata": {},
   "outputs": [],
   "source": [
    "from MLProject.constants import *\n",
    "from MLProject.utils.common import read_yaml, create_directories\n",
    "\n",
    "class ConfigurationManager:\n",
    "    def __init__(\n",
    "            self,\n",
    "            config_filepath = CONFIG_FILE_PATH,\n",
    "            params_filepath = PARAMS_FILE_PATH,\n",
    "            schema_filepath = SCHEMA_FILE_PATH\n",
    "    ):\n",
    "        self.config = read_yaml(config_filepath)\n",
    "        self.params = read_yaml(params_filepath)\n",
    "        self.schema = read_yaml(schema_filepath)\n",
    "\n",
    "        create_directories([self.config.artifacts_root])\n",
    "\n",
    "    def get_model_evaluation_config(self) -> ModelEvaluationConfig:\n",
    "        config = self.config.model_evaluation\n",
    "        params = self.params.SVC\n",
    "        schema = self.schema.TARGET_COLUMN\n",
    "\n",
    "        create_directories([config.root_dir])\n",
    "\n",
    "        model_evaluation_config = ModelEvaluationConfig(\n",
    "            root_dir=config.root_dir,\n",
    "            test_data_path=config.test_data_path,\n",
    "            model_path=config.model_path,\n",
    "            all_params=params,\n",
    "            metric_file_path=config.metric_file_path,\n",
    "            target_column=schema.name,\n",
    "            mlflow_uri = os.environ['MLFLOW_TRACKING_URI']\n",
    "        )\n",
    "\n",
    "        return model_evaluation_config"
   ]
  },
  {
   "cell_type": "code",
   "execution_count": 6,
   "metadata": {},
   "outputs": [],
   "source": [
    "import os\n",
    "import pandas as pd\n",
    "from sklearn.metrics import accuracy_score, f1_score, precision_score, recall_score\n",
    "from urllib.parse import urlparse\n",
    "import mlflow\n",
    "import mlflow.sklearn\n",
    "import numpy as np\n",
    "from MLProject.utils.common import load_bin, save_json\n",
    "\n",
    "class ModelEvaluation:\n",
    "    def __init__(self, config: ModelEvaluationConfig):\n",
    "        self.config = config\n",
    "\n",
    "    def log_into_mlflow(self):\n",
    "        test_data = pd.read_csv(self.config.test_data_path)\n",
    "        model = load_bin(self.config.model_path)\n",
    "\n",
    "        X_test = test_data.drop([self.config.target_column], axis= 1)\n",
    "        y_test = test_data[[self.config.target_column]]\n",
    "        \n",
    "        mlflow.set_registry_uri(self.config.mlflow_uri)\n",
    "        tracking_url_type_store = urlparse(mlflow.get_tracking_uri()).scheme\n",
    "\n",
    "        with mlflow.start_run():\n",
    "\n",
    "            predicted = model.predict(X_test)\n",
    "\n",
    "            (accuracy, f1, precision, recall) = self._eval_metrics(y_test, predicted)\n",
    "\n",
    "            ## Saving metrics as ocal\n",
    "            scores = {\n",
    "                \"accuracy\": accuracy,\n",
    "                \"f1\": f1,\n",
    "                \"precision\": precision,\n",
    "                \"recall\": recall\n",
    "            }\n",
    "            save_json(path = Path(self.config.metric_file_path), data = scores)\n",
    "\n",
    "            ## Log params\n",
    "            mlflow.log_params(self.config.all_params)\n",
    "\n",
    "            ## Log metrics\n",
    "            mlflow.log_metric(\"accuracy\", accuracy)\n",
    "            mlflow.log_metric(\"f1\", f1)\n",
    "            mlflow.log_metric(\"precision\", precision)\n",
    "            mlflow.log_metric(\"recall\", recall)\n",
    "\n",
    "            # Model registry does not work with file store\n",
    "            if tracking_url_type_store != \"file\":\n",
    "                # Register the model\n",
    "                # There are other ways to use the Model Registry, which depends on the use case.\n",
    "                # docs: https://mlflow.org/docs/latest/model-registry.html#api-workflow\n",
    "                mlflow.sklearn.log_model(model, \"model\", registered_model_name=\"SVC\")\n",
    "            else:\n",
    "                mlflow.sklearn.log_model(model, \"model\")\n",
    "\n",
    "    @staticmethod\n",
    "    def _eval_metrics(actual, pred):\n",
    "        accuracy = accuracy_score(actual, pred)\n",
    "        f1 = f1_score(actual, pred)\n",
    "        precision = precision_score(actual, pred)\n",
    "        recall = recall_score(actual, pred)\n",
    "        return (accuracy, f1, precision, recall)"
   ]
  },
  {
   "cell_type": "code",
   "execution_count": 7,
   "metadata": {},
   "outputs": [
    {
     "name": "stdout",
     "output_type": "stream",
     "text": [
      "| 2024-01-23 22:37:55,553 | INFO | common | yaml file: config\\config.yaml loaded successfully |\n",
      "| 2024-01-23 22:37:55,556 | INFO | common | yaml file: params.yaml loaded successfully |\n",
      "| 2024-01-23 22:37:55,560 | INFO | common | yaml file: schema.yaml loaded successfully |\n",
      "| 2024-01-23 22:37:55,564 | INFO | common | created directory at: artifacts |\n",
      "| 2024-01-23 22:37:55,565 | INFO | common | created directory at: artifacts\\model_evaluation |\n",
      "| 2024-01-23 22:37:55,709 | INFO | common | binary file loaded from: artifacts\\model_trainer\\model.joblib |\n",
      "| 2024-01-23 22:39:04,533 | INFO | common | json file saved at: artifacts\\model_evaluation\\metrics.json |\n"
     ]
    },
    {
     "name": "stderr",
     "output_type": "stream",
     "text": [
      "Registered model 'SVC' already exists. Creating a new version of this model...\n",
      "2024/01/23 22:39:17 INFO mlflow.store.model_registry.abstract_store: Waiting up to 300 seconds for model version to finish creation. Model name: SVC, version 2\n",
      "Created version '2' of model 'SVC'.\n"
     ]
    }
   ],
   "source": [
    "try:\n",
    "    config = ConfigurationManager()\n",
    "    model_evaluation_config = config.get_model_evaluation_config()\n",
    "    model_evaluation_config = ModelEvaluation(config= model_evaluation_config)\n",
    "    model_evaluation_config.log_into_mlflow()\n",
    "except Exception as e:\n",
    "    raise e"
   ]
  },
  {
   "cell_type": "code",
   "execution_count": null,
   "metadata": {},
   "outputs": [],
   "source": []
  }
 ],
 "metadata": {
  "kernelspec": {
   "display_name": "venv",
   "language": "python",
   "name": "python3"
  },
  "language_info": {
   "codemirror_mode": {
    "name": "ipython",
    "version": 3
   },
   "file_extension": ".py",
   "mimetype": "text/x-python",
   "name": "python",
   "nbconvert_exporter": "python",
   "pygments_lexer": "ipython3",
   "version": "3.11.4"
  }
 },
 "nbformat": 4,
 "nbformat_minor": 2
}
