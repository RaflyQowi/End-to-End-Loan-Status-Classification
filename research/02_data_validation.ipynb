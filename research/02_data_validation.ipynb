{
 "cells": [
  {
   "cell_type": "code",
   "execution_count": 1,
   "metadata": {},
   "outputs": [],
   "source": [
    "import os\n",
    "os.chdir('../')"
   ]
  },
  {
   "cell_type": "code",
   "execution_count": 2,
   "metadata": {},
   "outputs": [],
   "source": [
    "from dataclasses import dataclass\n",
    "from pathlib import Path\n",
    "\n",
    "@dataclass(frozen=True)\n",
    "class DataValidationConfig:\n",
    "    root_dir: Path\n",
    "    STATUS_FILE: str\n",
    "    unzip_data_dir: Path\n",
    "    all_schema: dict"
   ]
  },
  {
   "cell_type": "code",
   "execution_count": 3,
   "metadata": {},
   "outputs": [],
   "source": [
    "from MLProject.constants import *\n",
    "from MLProject.utils.common import read_yaml, create_directories"
   ]
  },
  {
   "cell_type": "code",
   "execution_count": 6,
   "metadata": {},
   "outputs": [],
   "source": [
    "class ConfigurationManager:\n",
    "    def __init__(\n",
    "            self,\n",
    "            config_filepath = CONFIG_FILE_PATH,\n",
    "            params_filepath = PARAMS_FILE_PATH,\n",
    "            schema_filepath = SCHEMA_FILE_PATH\n",
    "    ):\n",
    "        self.config = read_yaml(config_filepath)\n",
    "        self.params = read_yaml(params_filepath)\n",
    "        self.schema = read_yaml(schema_filepath)\n",
    "\n",
    "        create_directories([self.config.artifacts_root])\n",
    "\n",
    "    def get_validation_config(self) -> DataValidationConfig:\n",
    "        config = self.config.data_validation\n",
    "        schema = self.schema.COLUMNS\n",
    "        create_directories([config.root_dir])\n",
    "\n",
    "        data_validation_config = DataValidationConfig(\n",
    "            root_dir=config.root_dir,\n",
    "            STATUS_FILE=config.STATUS_FILE,\n",
    "            unzip_data_dir=config.unzip_data_dir,\n",
    "            all_schema= schema\n",
    "        )\n",
    "\n",
    "        return data_validation_config"
   ]
  },
  {
   "cell_type": "code",
   "execution_count": 12,
   "metadata": {},
   "outputs": [
    {
     "name": "stdout",
     "output_type": "stream",
     "text": [
      "| 2024-01-22 22:22:37,971 | INFO | common | yaml file: schema.yaml loaded successfully |\n"
     ]
    },
    {
     "data": {
      "text/plain": [
       "dict_keys(['Loan ID', 'Customer ID', 'Loan Status', 'Current Loan Amount', 'Term', 'Credit Score', 'Annual Income', 'Years in current job', 'Home Ownership', 'Purpose', 'Monthly Debt', 'Years of Credit History', 'Months since last delinquent', 'Number of Open Accounts', 'Number of Credit Problems', 'Current Credit Balance', 'Maximum Open Credit', 'Bankruptcies', 'Tax Liens'])"
      ]
     },
     "execution_count": 12,
     "metadata": {},
     "output_type": "execute_result"
    }
   ],
   "source": [
    "test = read_yaml(SCHEMA_FILE_PATH)\n",
    "test.COLUMNS.keys()"
   ]
  },
  {
   "cell_type": "code",
   "execution_count": 65,
   "metadata": {},
   "outputs": [
    {
     "data": {
      "text/plain": [
       "'object'"
      ]
     },
     "execution_count": 65,
     "metadata": {},
     "output_type": "execute_result"
    }
   ],
   "source": [
    "test.COLUMNS['Loan ID']"
   ]
  },
  {
   "cell_type": "code",
   "execution_count": 80,
   "metadata": {},
   "outputs": [],
   "source": [
    "import os\n",
    "from MLProject import logger\n",
    "import pandas as pd\n",
    "\n",
    "class DataValidation:\n",
    "    def __init__(self, config: DataValidationConfig):\n",
    "        self.config = config\n",
    "        self.data = pd.read_csv(self.config.unzip_data_dir)\n",
    "        with open(self.config.STATUS_FILE, 'w') as f:\n",
    "            pass\n",
    "        \n",
    "\n",
    "    def validate_all_columns(self) -> bool:\n",
    "        try: \n",
    "            all_cols =self.data.columns.to_list()\n",
    "\n",
    "            all_schema = self.config.all_schema.keys()\n",
    "\n",
    "            validation_status = True  # Assume validation is True initially\n",
    "\n",
    "            with open(self.config.STATUS_FILE, 'a') as f:\n",
    "                for col in all_schema:\n",
    "                    if col not in all_cols:\n",
    "                        validation_status = False\n",
    "                        f.write(f\"Validation status: {validation_status}, Because {col} not in schema\\n\")\n",
    "                \n",
    "                # Write the final validation status to the file\n",
    "                f.write(f\"Final Validation Columns status: {validation_status}\\n\")\n",
    "\n",
    "            return validation_status\n",
    "            \n",
    "        except Exception as e:\n",
    "            logger.exception(e)\n",
    "            raise e\n",
    "    \n",
    "    def validate_all_type(self, initial = True) -> bool:\n",
    "        validation_status = initial  # Assume validation is True initially\n",
    "        keys = self.config.all_schema.keys()\n",
    "        all_cols = self.data.columns.to_list()\n",
    "        with open(self.config.STATUS_FILE, 'a') as f:\n",
    "            for col in all_cols:\n",
    "                if self.config.all_schema[col] != self.data[col].dtype:\n",
    "                    validation_status = False\n",
    "                    f.write(f\"Validation status: {validation_status}, Because {col} type different from schema\\n\")\n",
    "        \n",
    "            # Write the final validation status to the file\n",
    "            f.write(f\"Final Validation type status: {validation_status}\\n\")\n",
    "        return validation_status"
   ]
  },
  {
   "cell_type": "code",
   "execution_count": 82,
   "metadata": {},
   "outputs": [
    {
     "name": "stdout",
     "output_type": "stream",
     "text": [
      "| 2024-01-22 22:59:54,090 | INFO | common | yaml file: config\\config.yaml loaded successfully |\n",
      "| 2024-01-22 22:59:54,092 | INFO | common | yaml file: params.yaml loaded successfully |\n",
      "| 2024-01-22 22:59:54,096 | INFO | common | yaml file: schema.yaml loaded successfully |\n",
      "| 2024-01-22 22:59:54,098 | INFO | common | created directory at: artifacts |\n",
      "| 2024-01-22 22:59:54,099 | INFO | common | created directory at: artifacts/data_validation |\n"
     ]
    }
   ],
   "source": [
    "try:\n",
    "    config = ConfigurationManager()\n",
    "    data_validation_config = config.get_validation_config()\n",
    "    data_validation = DataValidation(config=data_validation_config)\n",
    "    valid_1 = data_validation.validate_all_columns()\n",
    "    if valid_1:\n",
    "        valid_2 = data_validation.validate_all_type()\n",
    "    else:\n",
    "        valid_2 = data_validation.validate_all_type(initial = False)\n",
    "\n",
    "except Exception as e:\n",
    "    raise e"
   ]
  }
 ],
 "metadata": {
  "kernelspec": {
   "display_name": "venv",
   "language": "python",
   "name": "python3"
  },
  "language_info": {
   "codemirror_mode": {
    "name": "ipython",
    "version": 3
   },
   "file_extension": ".py",
   "mimetype": "text/x-python",
   "name": "python",
   "nbconvert_exporter": "python",
   "pygments_lexer": "ipython3",
   "version": "3.11.4"
  }
 },
 "nbformat": 4,
 "nbformat_minor": 2
}
