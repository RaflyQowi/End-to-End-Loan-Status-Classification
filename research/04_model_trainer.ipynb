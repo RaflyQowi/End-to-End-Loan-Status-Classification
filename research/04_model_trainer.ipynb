{
 "cells": [
  {
   "cell_type": "code",
   "execution_count": 2,
   "metadata": {},
   "outputs": [
    {
     "data": {
      "text/plain": [
       "'d:\\\\Code Workspace\\\\Personal Project\\\\Personal Project - End to End Loan Status Classification'"
      ]
     },
     "execution_count": 2,
     "metadata": {},
     "output_type": "execute_result"
    }
   ],
   "source": [
    "import os\n",
    "os.chdir('../')\n",
    "os.getcwd()"
   ]
  },
  {
   "cell_type": "code",
   "execution_count": 3,
   "metadata": {},
   "outputs": [],
   "source": [
    "from dataclasses import dataclass\n",
    "from pathlib import Path\n",
    "\n",
    "@dataclass(frozen= True)\n",
    "class ModelTrainerConfig:\n",
    "    root_dir: Path\n",
    "    train_data_path: Path\n",
    "    test_data_path: Path\n",
    "    model_name: str\n",
    "    C: float # Regularization parameter\n",
    "    degree: int # Degree of the polynomial kernel function\n",
    "    kernel: str # Kernel function {‘linear’, ‘poly’, ‘rbf’, ‘sigmoid’, ‘precomputed’} \n",
    "    target_column: str"
   ]
  },
  {
   "cell_type": "code",
   "execution_count": 4,
   "metadata": {},
   "outputs": [],
   "source": [
    "from MLProject.constants import *\n",
    "from MLProject.utils.common import read_yaml, create_directories"
   ]
  },
  {
   "cell_type": "code",
   "execution_count": 5,
   "metadata": {},
   "outputs": [],
   "source": [
    "class ConfigurationManager:\n",
    "    def __init__(\n",
    "            self,\n",
    "            config_filepath = CONFIG_FILE_PATH,\n",
    "            params_filepath = PARAMS_FILE_PATH,\n",
    "            schema_filepath = SCHEMA_FILE_PATH\n",
    "    ):\n",
    "        self.config = read_yaml(config_filepath)\n",
    "        self.params = read_yaml(params_filepath)\n",
    "        self.schema = read_yaml(schema_filepath)\n",
    "\n",
    "        create_directories([self.config.artifacts_root])\n",
    "\n",
    "    def get_model_trainer_config(self) -> ModelTrainerConfig:\n",
    "        config = self.config.model_trainer\n",
    "        params = self.params.SVC\n",
    "        schema = self.schema.TARGET_COLUMN\n",
    "\n",
    "        create_directories([config.root_dir])\n",
    "\n",
    "        model_trainer_config = ModelTrainerConfig(\n",
    "            root_dir= config.root_dir,\n",
    "            train_data_path= config.train_data_path,\n",
    "            test_data_path= config.test_data_path,\n",
    "            model_name= config.model_name,\n",
    "            C= params.C,\n",
    "            degree= params.degree,\n",
    "            kernel = params.kernel,\n",
    "            target_column= schema.name\n",
    "        )\n",
    "        return model_trainer_config"
   ]
  },
  {
   "cell_type": "code",
   "execution_count": 8,
   "metadata": {},
   "outputs": [],
   "source": [
    "import pandas as pd\n",
    "import os\n",
    "from MLProject import logger\n",
    "from sklearn.svm import SVC\n",
    "from MLProject.utils.common import save_bin\n",
    "\n",
    "class ModelTrainer:\n",
    "    def __init__(self, config: ModelTrainerConfig):\n",
    "        self.config = config\n",
    "\n",
    "    def train(self):\n",
    "        logger.info(f\"Loading training and test data.\")\n",
    "        train_df = pd.read_csv(self.config.train_data_path)\n",
    "        test_df = pd.read_csv(self.config.test_data_path)\n",
    "\n",
    "        logger.info(f\"Splitting input and target column from training and test data\")\n",
    "        X_train = train_df.drop([self.config.target_column], axis= 1)\n",
    "        X_test = test_df.drop([self.config.target_column], axis= 1)\n",
    "        y_train = train_df[[self.config.target_column]].values.ravel()\n",
    "        y_test = test_df[[self.config.target_column]]\n",
    "\n",
    "        logger.info(f\"Training Started\")\n",
    "        model = SVC(C = self.config.C,\n",
    "                    kernel= self.config.kernel,\n",
    "                    degree= self.config.degree,\n",
    "                    random_state= 42)\n",
    "        model.fit(X_train, y_train)\n",
    "\n",
    "        save_bin(model, path = os.path.join(self.config.root_dir, self.config.model_name))"
   ]
  },
  {
   "cell_type": "code",
   "execution_count": 7,
   "metadata": {},
   "outputs": [
    {
     "name": "stdout",
     "output_type": "stream",
     "text": [
      "| 2024-01-23 18:46:57,699 | INFO | common | yaml file: config\\config.yaml loaded successfully |\n",
      "| 2024-01-23 18:46:57,703 | INFO | common | yaml file: params.yaml loaded successfully |\n",
      "| 2024-01-23 18:46:57,706 | INFO | common | yaml file: schema.yaml loaded successfully |\n",
      "| 2024-01-23 18:46:57,709 | INFO | common | created directory at: artifacts |\n",
      "| 2024-01-23 18:46:57,710 | INFO | common | created directory at: artifacts\\model_trainer |\n",
      "| 2024-01-23 18:46:57,711 | INFO | 3052496624 | Loading training and test data. |\n",
      "| 2024-01-23 18:46:57,981 | INFO | 3052496624 | Splitting input and target column from training and test data |\n",
      "| 2024-01-23 18:46:57,991 | INFO | 3052496624 | Training Started |\n",
      "[LibSVM]| 2024-01-23 18:49:38,153 | INFO | common | binary file saved at: artifacts\\model_trainer\\model.joblib |\n"
     ]
    }
   ],
   "source": [
    "try:\n",
    "    config = ConfigurationManager()\n",
    "    model_trainer_config = config.get_model_trainer_config()\n",
    "    model_trainer = ModelTrainer(config= model_trainer_config)\n",
    "    model_trainer.train()\n",
    "except Exception as e:\n",
    "    raise e"
   ]
  },
  {
   "cell_type": "code",
   "execution_count": null,
   "metadata": {},
   "outputs": [],
   "source": []
  }
 ],
 "metadata": {
  "kernelspec": {
   "display_name": "venv",
   "language": "python",
   "name": "python3"
  },
  "language_info": {
   "codemirror_mode": {
    "name": "ipython",
    "version": 3
   },
   "file_extension": ".py",
   "mimetype": "text/x-python",
   "name": "python",
   "nbconvert_exporter": "python",
   "pygments_lexer": "ipython3",
   "version": "3.11.4"
  }
 },
 "nbformat": 4,
 "nbformat_minor": 2
}
